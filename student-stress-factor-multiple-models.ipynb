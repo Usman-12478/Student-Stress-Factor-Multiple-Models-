{
 "cells": [
  {
   "cell_type": "code",
   "execution_count": 1,
   "id": "e93542c3",
   "metadata": {
    "_cell_guid": "b1076dfc-b9ad-4769-8c92-a6c4dae69d19",
    "_uuid": "8f2839f25d086af736a60e9eeb907d3b93b6e0e5",
    "execution": {
     "iopub.execute_input": "2024-10-26T08:28:44.317216Z",
     "iopub.status.busy": "2024-10-26T08:28:44.316281Z",
     "iopub.status.idle": "2024-10-26T08:28:47.651341Z",
     "shell.execute_reply": "2024-10-26T08:28:47.650011Z"
    },
    "papermill": {
     "duration": 3.34379,
     "end_time": "2024-10-26T08:28:47.654107",
     "exception": false,
     "start_time": "2024-10-26T08:28:44.310317",
     "status": "completed"
    },
    "tags": []
   },
   "outputs": [],
   "source": [
    "import numpy as np\n",
    "import pandas as pd\n",
    "import matplotlib.pyplot as plt\n",
    "import seaborn as sns\n",
    "import warnings\n",
    "warnings.filterwarnings('ignore')\n",
    "from sklearn.model_selection import train_test_split\n",
    "from sklearn.svm import SVC\n",
    "from sklearn.ensemble import RandomForestClassifier\n",
    "from sklearn.tree import DecisionTreeClassifier\n",
    "from sklearn.neighbors import KNeighborsClassifier\n",
    "from sklearn.linear_model import LogisticRegression\n",
    "from sklearn.cluster import KMeans\n",
    "from sklearn.metrics import accuracy_score\n",
    "from sklearn.metrics import confusion_matrix, accuracy_score, classification_report"
   ]
  },
  {
   "cell_type": "markdown",
   "id": "88ed22a0",
   "metadata": {
    "papermill": {
     "duration": 0.003908,
     "end_time": "2024-10-26T08:28:47.662124",
     "exception": false,
     "start_time": "2024-10-26T08:28:47.658216",
     "status": "completed"
    },
    "tags": []
   },
   "source": [
    "# Loading The Dataset"
   ]
  },
  {
   "cell_type": "code",
   "execution_count": 2,
   "id": "cd1d8313",
   "metadata": {
    "execution": {
     "iopub.execute_input": "2024-10-26T08:28:47.671333Z",
     "iopub.status.busy": "2024-10-26T08:28:47.670789Z",
     "iopub.status.idle": "2024-10-26T08:28:47.723802Z",
     "shell.execute_reply": "2024-10-26T08:28:47.722421Z"
    },
    "papermill": {
     "duration": 0.06046,
     "end_time": "2024-10-26T08:28:47.726256",
     "exception": false,
     "start_time": "2024-10-26T08:28:47.665796",
     "status": "completed"
    },
    "tags": []
   },
   "outputs": [
    {
     "data": {
      "text/html": [
       "<div>\n",
       "<style scoped>\n",
       "    .dataframe tbody tr th:only-of-type {\n",
       "        vertical-align: middle;\n",
       "    }\n",
       "\n",
       "    .dataframe tbody tr th {\n",
       "        vertical-align: top;\n",
       "    }\n",
       "\n",
       "    .dataframe thead th {\n",
       "        text-align: right;\n",
       "    }\n",
       "</style>\n",
       "<table border=\"1\" class=\"dataframe\">\n",
       "  <thead>\n",
       "    <tr style=\"text-align: right;\">\n",
       "      <th></th>\n",
       "      <th>anxiety_level</th>\n",
       "      <th>self_esteem</th>\n",
       "      <th>mental_health_history</th>\n",
       "      <th>depression</th>\n",
       "      <th>headache</th>\n",
       "      <th>blood_pressure</th>\n",
       "      <th>sleep_quality</th>\n",
       "      <th>breathing_problem</th>\n",
       "      <th>noise_level</th>\n",
       "      <th>living_conditions</th>\n",
       "      <th>...</th>\n",
       "      <th>basic_needs</th>\n",
       "      <th>academic_performance</th>\n",
       "      <th>study_load</th>\n",
       "      <th>teacher_student_relationship</th>\n",
       "      <th>future_career_concerns</th>\n",
       "      <th>social_support</th>\n",
       "      <th>peer_pressure</th>\n",
       "      <th>extracurricular_activities</th>\n",
       "      <th>bullying</th>\n",
       "      <th>stress_level</th>\n",
       "    </tr>\n",
       "  </thead>\n",
       "  <tbody>\n",
       "    <tr>\n",
       "      <th>0</th>\n",
       "      <td>14</td>\n",
       "      <td>20</td>\n",
       "      <td>0</td>\n",
       "      <td>11</td>\n",
       "      <td>2</td>\n",
       "      <td>1</td>\n",
       "      <td>2</td>\n",
       "      <td>4</td>\n",
       "      <td>2</td>\n",
       "      <td>3</td>\n",
       "      <td>...</td>\n",
       "      <td>2</td>\n",
       "      <td>3</td>\n",
       "      <td>2</td>\n",
       "      <td>3</td>\n",
       "      <td>3</td>\n",
       "      <td>2</td>\n",
       "      <td>3</td>\n",
       "      <td>3</td>\n",
       "      <td>2</td>\n",
       "      <td>1</td>\n",
       "    </tr>\n",
       "    <tr>\n",
       "      <th>1</th>\n",
       "      <td>15</td>\n",
       "      <td>8</td>\n",
       "      <td>1</td>\n",
       "      <td>15</td>\n",
       "      <td>5</td>\n",
       "      <td>3</td>\n",
       "      <td>1</td>\n",
       "      <td>4</td>\n",
       "      <td>3</td>\n",
       "      <td>1</td>\n",
       "      <td>...</td>\n",
       "      <td>2</td>\n",
       "      <td>1</td>\n",
       "      <td>4</td>\n",
       "      <td>1</td>\n",
       "      <td>5</td>\n",
       "      <td>1</td>\n",
       "      <td>4</td>\n",
       "      <td>5</td>\n",
       "      <td>5</td>\n",
       "      <td>2</td>\n",
       "    </tr>\n",
       "    <tr>\n",
       "      <th>2</th>\n",
       "      <td>12</td>\n",
       "      <td>18</td>\n",
       "      <td>1</td>\n",
       "      <td>14</td>\n",
       "      <td>2</td>\n",
       "      <td>1</td>\n",
       "      <td>2</td>\n",
       "      <td>2</td>\n",
       "      <td>2</td>\n",
       "      <td>2</td>\n",
       "      <td>...</td>\n",
       "      <td>2</td>\n",
       "      <td>2</td>\n",
       "      <td>3</td>\n",
       "      <td>3</td>\n",
       "      <td>2</td>\n",
       "      <td>2</td>\n",
       "      <td>3</td>\n",
       "      <td>2</td>\n",
       "      <td>2</td>\n",
       "      <td>1</td>\n",
       "    </tr>\n",
       "    <tr>\n",
       "      <th>3</th>\n",
       "      <td>16</td>\n",
       "      <td>12</td>\n",
       "      <td>1</td>\n",
       "      <td>15</td>\n",
       "      <td>4</td>\n",
       "      <td>3</td>\n",
       "      <td>1</td>\n",
       "      <td>3</td>\n",
       "      <td>4</td>\n",
       "      <td>2</td>\n",
       "      <td>...</td>\n",
       "      <td>2</td>\n",
       "      <td>2</td>\n",
       "      <td>4</td>\n",
       "      <td>1</td>\n",
       "      <td>4</td>\n",
       "      <td>1</td>\n",
       "      <td>4</td>\n",
       "      <td>4</td>\n",
       "      <td>5</td>\n",
       "      <td>2</td>\n",
       "    </tr>\n",
       "    <tr>\n",
       "      <th>4</th>\n",
       "      <td>16</td>\n",
       "      <td>28</td>\n",
       "      <td>0</td>\n",
       "      <td>7</td>\n",
       "      <td>2</td>\n",
       "      <td>3</td>\n",
       "      <td>5</td>\n",
       "      <td>1</td>\n",
       "      <td>3</td>\n",
       "      <td>2</td>\n",
       "      <td>...</td>\n",
       "      <td>3</td>\n",
       "      <td>4</td>\n",
       "      <td>3</td>\n",
       "      <td>1</td>\n",
       "      <td>2</td>\n",
       "      <td>1</td>\n",
       "      <td>5</td>\n",
       "      <td>0</td>\n",
       "      <td>5</td>\n",
       "      <td>1</td>\n",
       "    </tr>\n",
       "  </tbody>\n",
       "</table>\n",
       "<p>5 rows × 21 columns</p>\n",
       "</div>"
      ],
      "text/plain": [
       "   anxiety_level  self_esteem  mental_health_history  depression  headache  \\\n",
       "0             14           20                      0          11         2   \n",
       "1             15            8                      1          15         5   \n",
       "2             12           18                      1          14         2   \n",
       "3             16           12                      1          15         4   \n",
       "4             16           28                      0           7         2   \n",
       "\n",
       "   blood_pressure  sleep_quality  breathing_problem  noise_level  \\\n",
       "0               1              2                  4            2   \n",
       "1               3              1                  4            3   \n",
       "2               1              2                  2            2   \n",
       "3               3              1                  3            4   \n",
       "4               3              5                  1            3   \n",
       "\n",
       "   living_conditions  ...  basic_needs  academic_performance  study_load  \\\n",
       "0                  3  ...            2                     3           2   \n",
       "1                  1  ...            2                     1           4   \n",
       "2                  2  ...            2                     2           3   \n",
       "3                  2  ...            2                     2           4   \n",
       "4                  2  ...            3                     4           3   \n",
       "\n",
       "   teacher_student_relationship  future_career_concerns  social_support  \\\n",
       "0                             3                       3               2   \n",
       "1                             1                       5               1   \n",
       "2                             3                       2               2   \n",
       "3                             1                       4               1   \n",
       "4                             1                       2               1   \n",
       "\n",
       "   peer_pressure  extracurricular_activities  bullying  stress_level  \n",
       "0              3                           3         2             1  \n",
       "1              4                           5         5             2  \n",
       "2              3                           2         2             1  \n",
       "3              4                           4         5             2  \n",
       "4              5                           0         5             1  \n",
       "\n",
       "[5 rows x 21 columns]"
      ]
     },
     "execution_count": 2,
     "metadata": {},
     "output_type": "execute_result"
    }
   ],
   "source": [
    "std_data = pd.read_csv('/kaggle/input/student-stress-factors-a-comprehensive-analysis/StressLevelDataset.csv')\n",
    "std_data.head()"
   ]
  },
  {
   "cell_type": "markdown",
   "id": "eac1b021",
   "metadata": {
    "papermill": {
     "duration": 0.003656,
     "end_time": "2024-10-26T08:28:47.734065",
     "exception": false,
     "start_time": "2024-10-26T08:28:47.730409",
     "status": "completed"
    },
    "tags": []
   },
   "source": [
    "# Exploratory Data Analysis"
   ]
  },
  {
   "cell_type": "code",
   "execution_count": 3,
   "id": "d0571604",
   "metadata": {
    "execution": {
     "iopub.execute_input": "2024-10-26T08:28:47.743639Z",
     "iopub.status.busy": "2024-10-26T08:28:47.743218Z",
     "iopub.status.idle": "2024-10-26T08:28:47.771297Z",
     "shell.execute_reply": "2024-10-26T08:28:47.769937Z"
    },
    "papermill": {
     "duration": 0.03633,
     "end_time": "2024-10-26T08:28:47.774361",
     "exception": false,
     "start_time": "2024-10-26T08:28:47.738031",
     "status": "completed"
    },
    "tags": []
   },
   "outputs": [
    {
     "name": "stdout",
     "output_type": "stream",
     "text": [
      "<class 'pandas.core.frame.DataFrame'>\n",
      "RangeIndex: 1100 entries, 0 to 1099\n",
      "Data columns (total 21 columns):\n",
      " #   Column                        Non-Null Count  Dtype\n",
      "---  ------                        --------------  -----\n",
      " 0   anxiety_level                 1100 non-null   int64\n",
      " 1   self_esteem                   1100 non-null   int64\n",
      " 2   mental_health_history         1100 non-null   int64\n",
      " 3   depression                    1100 non-null   int64\n",
      " 4   headache                      1100 non-null   int64\n",
      " 5   blood_pressure                1100 non-null   int64\n",
      " 6   sleep_quality                 1100 non-null   int64\n",
      " 7   breathing_problem             1100 non-null   int64\n",
      " 8   noise_level                   1100 non-null   int64\n",
      " 9   living_conditions             1100 non-null   int64\n",
      " 10  safety                        1100 non-null   int64\n",
      " 11  basic_needs                   1100 non-null   int64\n",
      " 12  academic_performance          1100 non-null   int64\n",
      " 13  study_load                    1100 non-null   int64\n",
      " 14  teacher_student_relationship  1100 non-null   int64\n",
      " 15  future_career_concerns        1100 non-null   int64\n",
      " 16  social_support                1100 non-null   int64\n",
      " 17  peer_pressure                 1100 non-null   int64\n",
      " 18  extracurricular_activities    1100 non-null   int64\n",
      " 19  bullying                      1100 non-null   int64\n",
      " 20  stress_level                  1100 non-null   int64\n",
      "dtypes: int64(21)\n",
      "memory usage: 180.6 KB\n"
     ]
    }
   ],
   "source": [
    "std_data.info()"
   ]
  },
  {
   "cell_type": "code",
   "execution_count": 4,
   "id": "09f942db",
   "metadata": {
    "execution": {
     "iopub.execute_input": "2024-10-26T08:28:47.784761Z",
     "iopub.status.busy": "2024-10-26T08:28:47.784351Z",
     "iopub.status.idle": "2024-10-26T08:28:47.791843Z",
     "shell.execute_reply": "2024-10-26T08:28:47.790668Z"
    },
    "papermill": {
     "duration": 0.015589,
     "end_time": "2024-10-26T08:28:47.794394",
     "exception": false,
     "start_time": "2024-10-26T08:28:47.778805",
     "status": "completed"
    },
    "tags": []
   },
   "outputs": [
    {
     "data": {
      "text/plain": [
       "['anxiety_level',\n",
       " 'self_esteem',\n",
       " 'mental_health_history',\n",
       " 'depression',\n",
       " 'headache',\n",
       " 'blood_pressure',\n",
       " 'sleep_quality',\n",
       " 'breathing_problem',\n",
       " 'noise_level',\n",
       " 'living_conditions',\n",
       " 'safety',\n",
       " 'basic_needs',\n",
       " 'academic_performance',\n",
       " 'study_load',\n",
       " 'teacher_student_relationship',\n",
       " 'future_career_concerns',\n",
       " 'social_support',\n",
       " 'peer_pressure',\n",
       " 'extracurricular_activities',\n",
       " 'bullying',\n",
       " 'stress_level']"
      ]
     },
     "execution_count": 4,
     "metadata": {},
     "output_type": "execute_result"
    }
   ],
   "source": [
    "std_data.columns.tolist()"
   ]
  },
  {
   "cell_type": "code",
   "execution_count": 5,
   "id": "faed7343",
   "metadata": {
    "execution": {
     "iopub.execute_input": "2024-10-26T08:28:47.806001Z",
     "iopub.status.busy": "2024-10-26T08:28:47.805470Z",
     "iopub.status.idle": "2024-10-26T08:28:47.815276Z",
     "shell.execute_reply": "2024-10-26T08:28:47.813935Z"
    },
    "papermill": {
     "duration": 0.018537,
     "end_time": "2024-10-26T08:28:47.817578",
     "exception": false,
     "start_time": "2024-10-26T08:28:47.799041",
     "status": "completed"
    },
    "tags": []
   },
   "outputs": [
    {
     "data": {
      "text/plain": [
       "anxiety_level                   0\n",
       "self_esteem                     0\n",
       "mental_health_history           0\n",
       "depression                      0\n",
       "headache                        0\n",
       "blood_pressure                  0\n",
       "sleep_quality                   0\n",
       "breathing_problem               0\n",
       "noise_level                     0\n",
       "living_conditions               0\n",
       "safety                          0\n",
       "basic_needs                     0\n",
       "academic_performance            0\n",
       "study_load                      0\n",
       "teacher_student_relationship    0\n",
       "future_career_concerns          0\n",
       "social_support                  0\n",
       "peer_pressure                   0\n",
       "extracurricular_activities      0\n",
       "bullying                        0\n",
       "stress_level                    0\n",
       "dtype: int64"
      ]
     },
     "execution_count": 5,
     "metadata": {},
     "output_type": "execute_result"
    }
   ],
   "source": [
    "std_data.isnull().sum()"
   ]
  },
  {
   "cell_type": "markdown",
   "id": "e5a7ec34",
   "metadata": {
    "papermill": {
     "duration": 0.004081,
     "end_time": "2024-10-26T08:28:47.826141",
     "exception": false,
     "start_time": "2024-10-26T08:28:47.822060",
     "status": "completed"
    },
    "tags": []
   },
   "source": [
    "# Splitting Data"
   ]
  },
  {
   "cell_type": "code",
   "execution_count": 6,
   "id": "d96517fa",
   "metadata": {
    "execution": {
     "iopub.execute_input": "2024-10-26T08:28:47.836833Z",
     "iopub.status.busy": "2024-10-26T08:28:47.836408Z",
     "iopub.status.idle": "2024-10-26T08:28:47.850099Z",
     "shell.execute_reply": "2024-10-26T08:28:47.848848Z"
    },
    "papermill": {
     "duration": 0.022497,
     "end_time": "2024-10-26T08:28:47.853125",
     "exception": false,
     "start_time": "2024-10-26T08:28:47.830628",
     "status": "completed"
    },
    "tags": []
   },
   "outputs": [],
   "source": [
    "X = std_data.drop('stress_level', axis = 1)\n",
    "y = std_data['stress_level']\n",
    "X_train, X_test, y_train, y_test = train_test_split(X, y, test_size = 0.2, random_state = 42)\n"
   ]
  },
  {
   "cell_type": "markdown",
   "id": "0908d8b7",
   "metadata": {
    "papermill": {
     "duration": 0.004232,
     "end_time": "2024-10-26T08:28:47.861986",
     "exception": false,
     "start_time": "2024-10-26T08:28:47.857754",
     "status": "completed"
    },
    "tags": []
   },
   "source": [
    "# Building Models"
   ]
  },
  {
   "cell_type": "code",
   "execution_count": 7,
   "id": "1eefa23d",
   "metadata": {
    "execution": {
     "iopub.execute_input": "2024-10-26T08:28:47.872973Z",
     "iopub.status.busy": "2024-10-26T08:28:47.872573Z",
     "iopub.status.idle": "2024-10-26T08:28:47.881220Z",
     "shell.execute_reply": "2024-10-26T08:28:47.880010Z"
    },
    "papermill": {
     "duration": 0.01717,
     "end_time": "2024-10-26T08:28:47.883767",
     "exception": false,
     "start_time": "2024-10-26T08:28:47.866597",
     "status": "completed"
    },
    "tags": []
   },
   "outputs": [],
   "source": [
    "models = {\n",
    "    'SVM' : SVC(), \n",
    "    \"Random Forest\" : RandomForestClassifier(), \n",
    "    \"Decision Tree\" : DecisionTreeClassifier(),\n",
    "    \"K-Neighbours Classifier\" : KNeighborsClassifier(),\n",
    "    \"Logistic Regression\" : LogisticRegression(max_iter = 1000), \n",
    "    \"KMean\" : KMeans(n_clusters=len(y.unique()), random_state = 43)\n",
    "}"
   ]
  },
  {
   "cell_type": "code",
   "execution_count": 8,
   "id": "5f0f07ee",
   "metadata": {
    "execution": {
     "iopub.execute_input": "2024-10-26T08:28:47.895250Z",
     "iopub.status.busy": "2024-10-26T08:28:47.894133Z",
     "iopub.status.idle": "2024-10-26T08:28:49.334623Z",
     "shell.execute_reply": "2024-10-26T08:28:49.333329Z"
    },
    "papermill": {
     "duration": 1.448556,
     "end_time": "2024-10-26T08:28:49.336887",
     "exception": false,
     "start_time": "2024-10-26T08:28:47.888331",
     "status": "completed"
    },
    "tags": []
   },
   "outputs": [
    {
     "name": "stdout",
     "output_type": "stream",
     "text": [
      "Accuracy Score of SVM: 0.90%\n",
      "SVM Confusion Matrix:\n",
      " [[67  3  6]\n",
      " [ 4 64  5]\n",
      " [ 1  4 66]]\n",
      "SVM Classification Report:\n",
      "               precision    recall  f1-score   support\n",
      "\n",
      "           0       0.93      0.88      0.91        76\n",
      "           1       0.90      0.88      0.89        73\n",
      "           2       0.86      0.93      0.89        71\n",
      "\n",
      "    accuracy                           0.90       220\n",
      "   macro avg       0.90      0.90      0.90       220\n",
      "weighted avg       0.90      0.90      0.90       220\n",
      "\n",
      "\n",
      "==================================================\n",
      "\n",
      "Accuracy Score of Random Forest: 0.88%\n",
      "Random Forest Confusion Matrix:\n",
      " [[69  2  5]\n",
      " [ 6 63  4]\n",
      " [ 9  1 61]]\n",
      "Random Forest Classification Report:\n",
      "               precision    recall  f1-score   support\n",
      "\n",
      "           0       0.82      0.91      0.86        76\n",
      "           1       0.95      0.86      0.91        73\n",
      "           2       0.87      0.86      0.87        71\n",
      "\n",
      "    accuracy                           0.88       220\n",
      "   macro avg       0.88      0.88      0.88       220\n",
      "weighted avg       0.88      0.88      0.88       220\n",
      "\n",
      "\n",
      "==================================================\n",
      "\n",
      "Accuracy Score of Decision Tree: 0.90%\n",
      "Decision Tree Confusion Matrix:\n",
      " [[69  4  3]\n",
      " [ 2 67  4]\n",
      " [ 5  3 63]]\n",
      "Decision Tree Classification Report:\n",
      "               precision    recall  f1-score   support\n",
      "\n",
      "           0       0.91      0.91      0.91        76\n",
      "           1       0.91      0.92      0.91        73\n",
      "           2       0.90      0.89      0.89        71\n",
      "\n",
      "    accuracy                           0.90       220\n",
      "   macro avg       0.90      0.90      0.90       220\n",
      "weighted avg       0.90      0.90      0.90       220\n",
      "\n",
      "\n",
      "==================================================\n",
      "\n",
      "Accuracy Score of K-Neighbors Classifier: 0.88%\n",
      "K-Neighbors Classifier Confusion Matrix:\n",
      " [[66  5  5]\n",
      " [ 3 65  5]\n",
      " [ 2  7 62]]\n",
      "K-Neighbors Classifier Classification Report:\n",
      "               precision    recall  f1-score   support\n",
      "\n",
      "           0       0.93      0.87      0.90        76\n",
      "           1       0.84      0.89      0.87        73\n",
      "           2       0.86      0.87      0.87        71\n",
      "\n",
      "    accuracy                           0.88       220\n",
      "   macro avg       0.88      0.88      0.88       220\n",
      "weighted avg       0.88      0.88      0.88       220\n",
      "\n",
      "\n",
      "==================================================\n",
      "\n",
      "Accuracy Score of Logistic Regression: 0.89%\n",
      "Logistic Regression Confusion Matrix:\n",
      " [[66  6  4]\n",
      " [ 6 65  2]\n",
      " [ 4  3 64]]\n",
      "Logistic Regression Classification Report:\n",
      "               precision    recall  f1-score   support\n",
      "\n",
      "           0       0.87      0.87      0.87        76\n",
      "           1       0.88      0.89      0.88        73\n",
      "           2       0.91      0.90      0.91        71\n",
      "\n",
      "    accuracy                           0.89       220\n",
      "   macro avg       0.89      0.89      0.89       220\n",
      "weighted avg       0.89      0.89      0.89       220\n",
      "\n",
      "\n",
      "==================================================\n",
      "\n",
      "KMeans Accuracy Score: 0.34%\n",
      "KMeans Confusion Matrix:\n",
      " [[64  2 10]\n",
      " [ 1  4 68]\n",
      " [ 1 63  7]]\n",
      "KMeans Classification Report:\n",
      "               precision    recall  f1-score   support\n",
      "\n",
      "           0       0.97      0.84      0.90        76\n",
      "           1       0.06      0.05      0.06        73\n",
      "           2       0.08      0.10      0.09        71\n",
      "\n",
      "    accuracy                           0.34       220\n",
      "   macro avg       0.37      0.33      0.35       220\n",
      "weighted avg       0.38      0.34      0.36       220\n",
      "\n",
      "\n",
      "==================================================\n",
      "\n",
      "Model Accuracies:\n",
      "SVM: 0.90\n",
      "Random Forest: 0.88\n",
      "Decision Tree: 0.90\n",
      "K-Neighbors Classifier: 0.88\n",
      "Logistic Regression: 0.89\n",
      "KMeans: 0.34\n"
     ]
    }
   ],
   "source": [
    "X = std_data.drop('stress_level', axis=1)\n",
    "y = std_data['stress_level']\n",
    "\n",
    "\n",
    "X_train, X_test, y_train, y_test = train_test_split(X, y, test_size=0.2, random_state=42)\n",
    "\n",
    "\n",
    "models = {\n",
    "    'SVM': SVC(), \n",
    "    \"Random Forest\": RandomForestClassifier(), \n",
    "    \"Decision Tree\": DecisionTreeClassifier(),\n",
    "    \"K-Neighbors Classifier\": KNeighborsClassifier(),\n",
    "    \"Logistic Regression\": LogisticRegression(max_iter=1000), \n",
    "    \"KMeans\": KMeans(n_clusters=len(y.unique()), random_state=43)\n",
    "}\n",
    "\n",
    "\n",
    "accuracies = {}\n",
    "\n",
    "\n",
    "for model_name, model in models.items():\n",
    "    if model_name == \"KMeans\":\n",
    "        model.fit(X_train)\n",
    "        y_pred = model.predict(X_test)\n",
    "\n",
    "        accuracy = accuracy_score(y_test, y_pred)  # This is not a true accuracy for KMeans\n",
    "        accuracies[model_name] = accuracy\n",
    "        print(f\"{model_name} Accuracy Score: {accuracy:.2f}%\")\n",
    "        print(f'{model_name} Confusion Matrix:\\n', confusion_matrix(y_test, y_pred))\n",
    "        print(f\"{model_name} Classification Report:\\n\", classification_report(y_test, y_pred))\n",
    "    else:\n",
    "        model.fit(X_train, y_train)\n",
    "        y_pred = model.predict(X_test)\n",
    "        accuracy = accuracy_score(y_test, y_pred)\n",
    "        accuracies[model_name] = accuracy\n",
    "        print(f\"Accuracy Score of {model_name}: {accuracy:.2f}%\")\n",
    "        print(f'{model_name} Confusion Matrix:\\n', confusion_matrix(y_test, y_pred))\n",
    "        print(f\"{model_name} Classification Report:\\n\", classification_report(y_test, y_pred))\n",
    "    \n",
    "    print(\"\\n\" + \"=\"*50 + \"\\n\")  # Separator for readability\n",
    "\n",
    "# Compare accuracies of all models\n",
    "print(\"Model Accuracies:\")\n",
    "for model_name, accuracy in accuracies.items():\n",
    "    print(f\"{model_name}: {accuracy:.2f}\")"
   ]
  },
  {
   "cell_type": "code",
   "execution_count": null,
   "id": "0f497c30",
   "metadata": {
    "papermill": {
     "duration": 0.004474,
     "end_time": "2024-10-26T08:28:49.346539",
     "exception": false,
     "start_time": "2024-10-26T08:28:49.342065",
     "status": "completed"
    },
    "tags": []
   },
   "outputs": [],
   "source": []
  }
 ],
 "metadata": {
  "kaggle": {
   "accelerator": "none",
   "dataSources": [
    {
     "datasetId": 3858024,
     "sourceId": 6690715,
     "sourceType": "datasetVersion"
    }
   ],
   "dockerImageVersionId": 30746,
   "isGpuEnabled": false,
   "isInternetEnabled": false,
   "language": "python",
   "sourceType": "notebook"
  },
  "kernelspec": {
   "display_name": "Python 3",
   "language": "python",
   "name": "python3"
  },
  "language_info": {
   "codemirror_mode": {
    "name": "ipython",
    "version": 3
   },
   "file_extension": ".py",
   "mimetype": "text/x-python",
   "name": "python",
   "nbconvert_exporter": "python",
   "pygments_lexer": "ipython3",
   "version": "3.10.13"
  },
  "papermill": {
   "default_parameters": {},
   "duration": 9.251693,
   "end_time": "2024-10-26T08:28:49.975137",
   "environment_variables": {},
   "exception": null,
   "input_path": "__notebook__.ipynb",
   "output_path": "__notebook__.ipynb",
   "parameters": {},
   "start_time": "2024-10-26T08:28:40.723444",
   "version": "2.5.0"
  }
 },
 "nbformat": 4,
 "nbformat_minor": 5
}
